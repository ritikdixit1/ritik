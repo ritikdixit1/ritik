{
  "nbformat": 4,
  "nbformat_minor": 0,
  "metadata": {
    "colab": {
      "name": "BrainTumorDetection.ipynb",
      "provenance": [],
      "collapsed_sections": [],
      "authorship_tag": "ABX9TyP8rJdVcuOebmzZOkD1TdQr",
      "include_colab_link": true
    },
    "kernelspec": {
      "name": "python3",
      "display_name": "Python 3"
    }
  },
  "cells": [
    {
      "cell_type": "markdown",
      "metadata": {
        "id": "view-in-github",
        "colab_type": "text"
      },
      "source": [
        "<a href=\"https://colab.research.google.com/github/dixitritik17/ritik/blob/master/BrainTumorDetection.ipynb\" target=\"_parent\"><img src=\"https://colab.research.google.com/assets/colab-badge.svg\" alt=\"Open In Colab\"/></a>"
      ]
    },
    {
      "cell_type": "code",
      "metadata": {
        "colab": {
          "base_uri": "https://localhost:8080/"
        },
        "id": "cAjikwvKU4q4",
        "outputId": "9a0cc019-c760-442c-828c-f1676568c71b"
      },
      "source": [
        "!unzip braintumor"
      ],
      "execution_count": null,
      "outputs": [
        {
          "output_type": "stream",
          "text": [
            "Archive:  braintumor.zip\n",
            "   creating: braintumor/\n",
            "   creating: braintumor/train/\n",
            "   creating: braintumor/train/no/\n",
            "  inflating: braintumor/train/no/1 no.jpeg  \n",
            "  inflating: braintumor/train/no/10 no.jpg  \n",
            "  inflating: braintumor/train/no/11 no.jpg  \n",
            "  inflating: braintumor/train/no/12 no.jpg  \n",
            "  inflating: braintumor/train/no/13 no.jpg  \n",
            "  inflating: braintumor/train/no/14 no.jpg  \n",
            "  inflating: braintumor/train/no/15 no.jpg  \n",
            "  inflating: braintumor/train/no/17 no.jpg  \n",
            "  inflating: braintumor/train/no/18 no.jpg  \n",
            "  inflating: braintumor/train/no/19 no.jpg  \n",
            "  inflating: braintumor/train/no/2 no.jpeg  \n",
            "  inflating: braintumor/train/no/20 no.jpg  \n",
            "  inflating: braintumor/train/no/21 no.jpg  \n",
            "  inflating: braintumor/train/no/22 no.jpg  \n",
            "  inflating: braintumor/train/no/23 no.jpg  \n",
            "  inflating: braintumor/train/no/24 no.jpg  \n",
            "  inflating: braintumor/train/no/25 no.jpg  \n",
            "  inflating: braintumor/train/no/26 no.jpg  \n",
            "  inflating: braintumor/train/no/27 no.jpg  \n",
            "  inflating: braintumor/train/no/28 no.jpg  \n",
            "  inflating: braintumor/train/no/29 no.jpg  \n",
            "  inflating: braintumor/train/no/3 no.jpg  \n",
            "  inflating: braintumor/train/no/30 no.jpg  \n",
            "  inflating: braintumor/train/no/31 no.jpg  \n",
            "  inflating: braintumor/train/no/32 no.jpg  \n",
            "  inflating: braintumor/train/no/33 no.jpg  \n",
            "  inflating: braintumor/train/no/34 no.jpg  \n",
            "  inflating: braintumor/train/no/35 no.jpg  \n",
            "  inflating: braintumor/train/no/36 no.jpg  \n",
            "  inflating: braintumor/train/no/37 no.jpg  \n",
            "  inflating: braintumor/train/no/38 no.jpg  \n",
            "  inflating: braintumor/train/no/39 no.jpg  \n",
            "  inflating: braintumor/train/no/4 no.jpg  \n",
            "  inflating: braintumor/train/no/40 no.jpg  \n",
            "  inflating: braintumor/train/no/41 no.jpg  \n",
            "  inflating: braintumor/train/no/42 no.jpg  \n",
            "  inflating: braintumor/train/no/43 no.jpg  \n",
            "  inflating: braintumor/train/no/44no.jpg  \n",
            "  inflating: braintumor/train/no/45 no.jpg  \n",
            "  inflating: braintumor/train/no/46 no.jpg  \n",
            "  inflating: braintumor/train/no/47 no.jpg  \n",
            "  inflating: braintumor/train/no/48 no.jpeg  \n",
            "  inflating: braintumor/train/no/49 no.jpg  \n",
            "  inflating: braintumor/train/no/5 no.jpg  \n",
            "  inflating: braintumor/train/no/50 no.jpg  \n",
            "  inflating: braintumor/train/no/6 no.jpg  \n",
            "  inflating: braintumor/train/no/7 no.jpg  \n",
            "  inflating: braintumor/train/no/8 no.jpg  \n",
            "  inflating: braintumor/train/no/9 no.jpg  \n",
            "  inflating: braintumor/train/no/N1.JPG  \n",
            "  inflating: braintumor/train/no/N11.jpg  \n",
            "  inflating: braintumor/train/no/N15.jpg  \n",
            "  inflating: braintumor/train/no/N16.jpg  \n",
            "  inflating: braintumor/train/no/N17.jpg  \n",
            "  inflating: braintumor/train/no/N19.JPG  \n",
            "  inflating: braintumor/train/no/N2.JPG  \n",
            "  inflating: braintumor/train/no/N20.JPG  \n",
            "  inflating: braintumor/train/no/N21.jpg  \n",
            "  inflating: braintumor/train/no/N22.JPG  \n",
            "  inflating: braintumor/train/no/N26.JPG  \n",
            "  inflating: braintumor/train/no/N3.jpg  \n",
            "  inflating: braintumor/train/no/N5.jpg  \n",
            "  inflating: braintumor/train/no/N6.jpg  \n",
            "  inflating: braintumor/train/no/no 1.jpg  \n",
            "  inflating: braintumor/train/no/no 10.jpg  \n",
            "  inflating: braintumor/train/no/no 2.jpg  \n",
            "  inflating: braintumor/train/no/no 3.jpg  \n",
            "  inflating: braintumor/train/no/no 4.jpg  \n",
            "  inflating: braintumor/train/no/no 5.jpeg  \n",
            "  inflating: braintumor/train/no/no 6.jpg  \n",
            "  inflating: braintumor/train/no/no 7.jpeg  \n",
            "  inflating: braintumor/train/no/no 8.jpg  \n",
            "  inflating: braintumor/train/no/no 89.jpg  \n",
            "  inflating: braintumor/train/no/no 9.png  \n",
            "  inflating: braintumor/train/no/no 90.jpg  \n",
            "  inflating: braintumor/train/no/no 91.jpeg  \n",
            "   creating: braintumor/train/yes/\n",
            "  inflating: braintumor/train/yes/Y1.jpg  \n",
            "  inflating: braintumor/train/yes/Y10.jpg  \n",
            "  inflating: braintumor/train/yes/Y100.JPG  \n",
            "  inflating: braintumor/train/yes/Y101.jpg  \n",
            "  inflating: braintumor/train/yes/Y102.jpg  \n",
            "  inflating: braintumor/train/yes/Y103.jpg  \n",
            "  inflating: braintumor/train/yes/Y104.jpg  \n",
            "  inflating: braintumor/train/yes/Y105.jpg  \n",
            "  inflating: braintumor/train/yes/Y106.jpg  \n",
            "  inflating: braintumor/train/yes/Y107.jpg  \n",
            "  inflating: braintumor/train/yes/Y108.jpg  \n",
            "  inflating: braintumor/train/yes/Y109.JPG  \n",
            "  inflating: braintumor/train/yes/Y11.jpg  \n",
            "  inflating: braintumor/train/yes/Y111.JPG  \n",
            "  inflating: braintumor/train/yes/Y112.JPG  \n",
            "  inflating: braintumor/train/yes/Y113.JPG  \n",
            "  inflating: braintumor/train/yes/Y114.JPG  \n",
            "  inflating: braintumor/train/yes/Y115.JPG  \n",
            "  inflating: braintumor/train/yes/Y116.JPG  \n",
            "  inflating: braintumor/train/yes/Y117.JPG  \n",
            "  inflating: braintumor/train/yes/Y12.jpg  \n",
            "  inflating: braintumor/train/yes/Y120.JPG  \n",
            "  inflating: braintumor/train/yes/Y13.jpg  \n",
            "  inflating: braintumor/train/yes/Y14.jpg  \n",
            "  inflating: braintumor/train/yes/Y146.JPG  \n",
            "  inflating: braintumor/train/yes/Y147.JPG  \n",
            "  inflating: braintumor/train/yes/Y148.JPG  \n",
            "  inflating: braintumor/train/yes/Y15.jpg  \n",
            "  inflating: braintumor/train/yes/Y153.jpg  \n",
            "  inflating: braintumor/train/yes/Y154.jpg  \n",
            "  inflating: braintumor/train/yes/Y155.JPG  \n",
            "  inflating: braintumor/train/yes/Y156.JPG  \n",
            "  inflating: braintumor/train/yes/Y157.JPG  \n",
            "  inflating: braintumor/train/yes/Y158.JPG  \n",
            "  inflating: braintumor/train/yes/Y159.JPG  \n",
            "  inflating: braintumor/train/yes/Y16.JPG  \n",
            "  inflating: braintumor/train/yes/Y160.JPG  \n",
            "  inflating: braintumor/train/yes/Y161.JPG  \n",
            "  inflating: braintumor/train/yes/Y162.jpg  \n",
            "  inflating: braintumor/train/yes/Y163.JPG  \n",
            "  inflating: braintumor/train/yes/Y164.JPG  \n",
            "  inflating: braintumor/train/yes/Y165.JPG  \n",
            "  inflating: braintumor/train/yes/Y166.JPG  \n",
            "  inflating: braintumor/train/yes/Y17.jpg  \n",
            "  inflating: braintumor/train/yes/Y18.JPG  \n",
            "  inflating: braintumor/train/yes/Y19.JPG  \n",
            "  inflating: braintumor/train/yes/Y2.jpg  \n",
            "  inflating: braintumor/train/yes/Y20.jpg  \n",
            "  inflating: braintumor/train/yes/Y21.jpg  \n",
            "  inflating: braintumor/train/yes/Y22.jpg  \n",
            "  inflating: braintumor/train/yes/Y23.JPG  \n",
            "  inflating: braintumor/train/yes/Y24.jpg  \n",
            "  inflating: braintumor/train/yes/Y25.jpg  \n",
            "  inflating: braintumor/train/yes/Y26.jpg  \n",
            "  inflating: braintumor/train/yes/Y27.jpg  \n",
            "  inflating: braintumor/train/yes/Y28.jpg  \n",
            "  inflating: braintumor/train/yes/Y29.jpg  \n",
            "  inflating: braintumor/train/yes/Y3.jpg  \n",
            "  inflating: braintumor/train/yes/Y30.jpg  \n",
            "  inflating: braintumor/train/yes/Y31.jpg  \n",
            "  inflating: braintumor/train/yes/Y32.jpg  \n",
            "  inflating: braintumor/train/yes/Y33.jpg  \n",
            "  inflating: braintumor/train/yes/Y34.jpg  \n",
            "  inflating: braintumor/train/yes/Y35.jpg  \n",
            "  inflating: braintumor/train/yes/Y36.JPG  \n",
            "  inflating: braintumor/train/yes/Y37.jpg  \n",
            "  inflating: braintumor/train/yes/Y38.jpg  \n",
            "  inflating: braintumor/train/yes/Y39.jpg  \n",
            "  inflating: braintumor/train/yes/Y4.jpg  \n",
            "  inflating: braintumor/train/yes/Y40.JPG  \n",
            "  inflating: braintumor/train/yes/Y41.jpg  \n",
            "  inflating: braintumor/train/yes/Y42.jpg  \n",
            "  inflating: braintumor/train/yes/Y44.JPG  \n",
            "  inflating: braintumor/train/yes/Y45.JPG  \n",
            "  inflating: braintumor/train/yes/Y46.jpg  \n",
            "  inflating: braintumor/train/yes/Y47.JPG  \n",
            "  inflating: braintumor/train/yes/Y49.JPG  \n",
            "  inflating: braintumor/train/yes/Y50.JPG  \n",
            "  inflating: braintumor/train/yes/Y51.jpg  \n",
            "  inflating: braintumor/train/yes/Y52.jpg  \n",
            "  inflating: braintumor/train/yes/Y53.jpg  \n",
            "  inflating: braintumor/train/yes/Y54.jpg  \n",
            "  inflating: braintumor/train/yes/Y55.jpg  \n",
            "  inflating: braintumor/train/yes/Y56.jpg  \n",
            "  inflating: braintumor/train/yes/Y58.JPG  \n",
            "  inflating: braintumor/train/yes/Y59.JPG  \n",
            "  inflating: braintumor/train/yes/Y6.jpg  \n",
            "  inflating: braintumor/train/yes/Y60.jpg  \n",
            "  inflating: braintumor/train/yes/Y61.jpg  \n",
            "  inflating: braintumor/train/yes/Y62.jpg  \n",
            "  inflating: braintumor/train/yes/Y65.JPG  \n",
            "  inflating: braintumor/train/yes/Y66.JPG  \n",
            "  inflating: braintumor/train/yes/Y67.JPG  \n",
            "  inflating: braintumor/train/yes/Y69.jpg  \n",
            "  inflating: braintumor/train/yes/Y7.jpg  \n",
            "  inflating: braintumor/train/yes/Y70.jpg  \n",
            "  inflating: braintumor/train/yes/Y71.JPG  \n",
            "  inflating: braintumor/train/yes/Y73.jpg  \n",
            "  inflating: braintumor/train/yes/Y74.jpg  \n",
            "  inflating: braintumor/train/yes/Y75.JPG  \n",
            "  inflating: braintumor/train/yes/Y76.jpg  \n",
            "  inflating: braintumor/train/yes/Y77.jpg  \n",
            "  inflating: braintumor/train/yes/Y78.jpg  \n",
            "  inflating: braintumor/train/yes/Y79.jpg  \n",
            "  inflating: braintumor/train/yes/Y8.jpg  \n",
            "  inflating: braintumor/train/yes/Y81.jpg  \n",
            "  inflating: braintumor/train/yes/Y82.jpg  \n",
            "  inflating: braintumor/train/yes/Y85.JPG  \n",
            "  inflating: braintumor/train/yes/Y86.JPG  \n",
            "  inflating: braintumor/train/yes/Y89.JPG  \n",
            "  inflating: braintumor/train/yes/Y9.jpg  \n",
            "  inflating: braintumor/train/yes/Y90.jpg  \n",
            "  inflating: braintumor/train/yes/Y91.jpg  \n",
            "  inflating: braintumor/train/yes/Y92.jpg  \n",
            "  inflating: braintumor/train/yes/Y92.png  \n",
            "  inflating: braintumor/train/yes/Y95.jpg  \n",
            "  inflating: braintumor/train/yes/Y96.jpg  \n",
            "  inflating: braintumor/train/yes/Y97.JPG  \n",
            "  inflating: braintumor/train/yes/Y98.JPG  \n",
            "  inflating: braintumor/train/yes/Y99.JPG  \n",
            "   creating: braintumor/val/\n",
            "   creating: braintumor/val/no/\n",
            "  inflating: braintumor/val/no/no 100.jpg  \n",
            "  inflating: braintumor/val/no/no 92.jpg  \n",
            "  inflating: braintumor/val/no/no 923.jpg  \n",
            "  inflating: braintumor/val/no/no 94.jpg  \n",
            "  inflating: braintumor/val/no/no 95.jpg  \n",
            "  inflating: braintumor/val/no/no 96.jpg  \n",
            "  inflating: braintumor/val/no/no 97.jpg  \n",
            "  inflating: braintumor/val/no/no 98.jpg  \n",
            "  inflating: braintumor/val/no/no 99.jpg  \n",
            "  inflating: braintumor/val/no/no.jpg  \n",
            "  inflating: braintumor/val/no/No11.jpg  \n",
            "  inflating: braintumor/val/no/No12.jpg  \n",
            "  inflating: braintumor/val/no/No13.jpg  \n",
            "  inflating: braintumor/val/no/No14.jpg  \n",
            "  inflating: braintumor/val/no/No15.jpg  \n",
            "  inflating: braintumor/val/no/No16.jpg  \n",
            "  inflating: braintumor/val/no/No17.jpg  \n",
            "  inflating: braintumor/val/no/No18.jpg  \n",
            "  inflating: braintumor/val/no/No19.jpg  \n",
            "  inflating: braintumor/val/no/No20.jpg  \n",
            "  inflating: braintumor/val/no/No21.jpg  \n",
            "  inflating: braintumor/val/no/No22.jpg  \n",
            "   creating: braintumor/val/yes/\n",
            "  inflating: braintumor/val/yes/Y167.JPG  \n",
            "  inflating: braintumor/val/yes/Y168.jpg  \n",
            "  inflating: braintumor/val/yes/Y169.jpg  \n",
            "  inflating: braintumor/val/yes/Y170.JPG  \n",
            "  inflating: braintumor/val/yes/Y180.jpg  \n",
            "  inflating: braintumor/val/yes/Y181.jpg  \n",
            "  inflating: braintumor/val/yes/Y182.JPG  \n",
            "  inflating: braintumor/val/yes/Y183.jpg  \n",
            "  inflating: braintumor/val/yes/Y184.JPG  \n",
            "  inflating: braintumor/val/yes/Y185.jpg  \n",
            "  inflating: braintumor/val/yes/Y186.jpg  \n",
            "  inflating: braintumor/val/yes/Y187.jpg  \n",
            "  inflating: braintumor/val/yes/Y188.jpg  \n",
            "  inflating: braintumor/val/yes/Y192.JPG  \n",
            "  inflating: braintumor/val/yes/Y193.JPG  \n",
            "  inflating: braintumor/val/yes/Y194.jpg  \n",
            "  inflating: braintumor/val/yes/Y195.JPG  \n",
            "  inflating: braintumor/val/yes/Y242.JPG  \n",
            "  inflating: braintumor/val/yes/Y243.JPG  \n",
            "  inflating: braintumor/val/yes/Y244.JPG  \n",
            "  inflating: braintumor/val/yes/Y245.jpg  \n",
            "  inflating: braintumor/val/yes/Y246.JPG  \n",
            "  inflating: braintumor/val/yes/Y247.JPG  \n",
            "  inflating: braintumor/val/yes/Y248.JPG  \n",
            "  inflating: braintumor/val/yes/Y249.JPG  \n",
            "  inflating: braintumor/val/yes/Y250.jpg  \n",
            "  inflating: braintumor/val/yes/Y251.JPG  \n",
            "  inflating: braintumor/val/yes/Y252.jpg  \n",
            "  inflating: braintumor/val/yes/Y253.JPG  \n",
            "  inflating: braintumor/val/yes/Y254.jpg  \n",
            "  inflating: braintumor/val/yes/Y255.JPG  \n",
            "  inflating: braintumor/val/yes/Y256.JPG  \n",
            "  inflating: braintumor/val/yes/Y257.jpg  \n",
            "  inflating: braintumor/val/yes/Y258.JPG  \n",
            "  inflating: braintumor/val/yes/Y259.JPG  \n"
          ],
          "name": "stdout"
        }
      ]
    },
    {
      "cell_type": "code",
      "metadata": {
        "id": "4pdEvwvCVa_p"
      },
      "source": [
        "train_path = \"braintumor/train\"\n",
        "val_path = \"braintumor/val\""
      ],
      "execution_count": null,
      "outputs": []
    },
    {
      "cell_type": "code",
      "metadata": {
        "id": "-iPPCWGFVucz"
      },
      "source": [
        "import numpy as np\n",
        "import os\n",
        "import matplotlib.pyplot as plt\n",
        "import keras\n",
        "from keras.layers import*\n",
        "from keras.models import*\n",
        "from keras.preprocessing import image \n",
        "import pickle\n",
        "import cv2\n",
        "import matplotlib.pyplot as plt\n",
        "from os import listdir\n",
        "from sklearn.preprocessing import LabelBinarizer\n",
        "from keras.models import Sequential\n",
        "from keras.layers.normalization import BatchNormalization\n",
        "from keras.layers.convolutional import Conv2D\n",
        "from keras.layers.convolutional import MaxPooling2D\n",
        "from keras.layers.core import Activation, Flatten, Dropout, Dense\n",
        "from keras import backend as K\n",
        "from keras.preprocessing.image import ImageDataGenerator\n",
        "from keras.optimizers import Adam\n",
        "from keras.preprocessing import image\n",
        "from keras.preprocessing.image import img_to_array\n",
        "from sklearn.preprocessing import MultiLabelBinarizer\n",
        "from sklearn.model_selection import train_test_split"
      ],
      "execution_count": null,
      "outputs": []
    },
    {
      "cell_type": "code",
      "metadata": {
        "colab": {
          "base_uri": "https://localhost:8080/"
        },
        "id": "nAot2vMPVxTj",
        "outputId": "a77a5136-7dd7-41b8-c5f7-1492e2113af1"
      },
      "source": [
        "model = Sequential()\n",
        "\n",
        "inputSize = (224,224,3)\n",
        "model.add(Conv2D(32, (3, 3), activation=\"relu\",input_shape=inputSize))\n",
        "model.add(Conv2D(64, (3, 3), activation=\"relu\"))\n",
        "model.add(MaxPooling2D(pool_size=(2, 2)))\n",
        "model.add(Dropout(0.25))\n",
        "\n",
        "model.add(Conv2D(64, (3, 3) ,activation=\"relu\"))\n",
        "model.add(MaxPooling2D(pool_size=(2, 2)))\n",
        "model.add(Dropout(0.25))\n",
        "\n",
        "model.add(Conv2D(128, (3, 3) ,activation=\"relu\"))\n",
        "model.add(MaxPooling2D(pool_size=(2, 2)))\n",
        "model.add(Dropout(0.25))\n",
        "\n",
        "model.add(Flatten())\n",
        "model.add(Dense(64, activation=\"relu\"))\n",
        "model.add(Dropout(0.5))\n",
        "\n",
        "model.add(Dense(1, activation=\"sigmoid\"))\n",
        "\n",
        "model.compile(loss=keras.losses.binary_crossentropy, optimizer='Adam', metrics=[\"accuracy\"])\n",
        "\n",
        "model.summary()"
      ],
      "execution_count": null,
      "outputs": [
        {
          "output_type": "stream",
          "text": [
            "Model: \"sequential\"\n",
            "_________________________________________________________________\n",
            "Layer (type)                 Output Shape              Param #   \n",
            "=================================================================\n",
            "conv2d (Conv2D)              (None, 222, 222, 32)      896       \n",
            "_________________________________________________________________\n",
            "conv2d_1 (Conv2D)            (None, 220, 220, 64)      18496     \n",
            "_________________________________________________________________\n",
            "max_pooling2d (MaxPooling2D) (None, 110, 110, 64)      0         \n",
            "_________________________________________________________________\n",
            "dropout (Dropout)            (None, 110, 110, 64)      0         \n",
            "_________________________________________________________________\n",
            "conv2d_2 (Conv2D)            (None, 108, 108, 64)      36928     \n",
            "_________________________________________________________________\n",
            "max_pooling2d_1 (MaxPooling2 (None, 54, 54, 64)        0         \n",
            "_________________________________________________________________\n",
            "dropout_1 (Dropout)          (None, 54, 54, 64)        0         \n",
            "_________________________________________________________________\n",
            "conv2d_3 (Conv2D)            (None, 52, 52, 128)       73856     \n",
            "_________________________________________________________________\n",
            "max_pooling2d_2 (MaxPooling2 (None, 26, 26, 128)       0         \n",
            "_________________________________________________________________\n",
            "dropout_2 (Dropout)          (None, 26, 26, 128)       0         \n",
            "_________________________________________________________________\n",
            "flatten (Flatten)            (None, 86528)             0         \n",
            "_________________________________________________________________\n",
            "dense (Dense)                (None, 64)                5537856   \n",
            "_________________________________________________________________\n",
            "dropout_3 (Dropout)          (None, 64)                0         \n",
            "_________________________________________________________________\n",
            "dense_1 (Dense)              (None, 1)                 65        \n",
            "=================================================================\n",
            "Total params: 5,668,097\n",
            "Trainable params: 5,668,097\n",
            "Non-trainable params: 0\n",
            "_________________________________________________________________\n"
          ],
          "name": "stdout"
        }
      ]
    },
    {
      "cell_type": "code",
      "metadata": {
        "id": "336xe25BV0du"
      },
      "source": [
        "train_datagen = image.ImageDataGenerator(\n",
        "        rescale=1./255,\n",
        "        shear_range=0.2,\n",
        "        zoom_range=0.2,\n",
        "        horizontal_flip=True)\n",
        "\n",
        "test_datagen = image.ImageDataGenerator(rescale=1./255)"
      ],
      "execution_count": null,
      "outputs": []
    },
    {
      "cell_type": "code",
      "metadata": {
        "colab": {
          "base_uri": "https://localhost:8080/"
        },
        "id": "QNvA68YoV3EX",
        "outputId": "9dc6f558-a501-47f2-9f86-0307f4a4d23b"
      },
      "source": [
        "training_set = train_datagen.flow_from_directory('braintumor/train',\n",
        "                                                 target_size=(224, 224),\n",
        "                                                 batch_size=32,\n",
        "                                                 class_mode='binary')\n"
      ],
      "execution_count": null,
      "outputs": [
        {
          "output_type": "stream",
          "text": [
            "Found 196 images belonging to 2 classes.\n"
          ],
          "name": "stdout"
        }
      ]
    },
    {
      "cell_type": "code",
      "metadata": {
        "colab": {
          "base_uri": "https://localhost:8080/"
        },
        "id": "IyRHAWb8WJAe",
        "outputId": "309c2e3b-5def-447d-e8d2-a20e39302541"
      },
      "source": [
        "validation_set = train_datagen.flow_from_directory('braintumor/val',\n",
        "                                                 target_size=(224, 224),\n",
        "                                                 batch_size=32,\n",
        "                                                 class_mode='binary')\n"
      ],
      "execution_count": null,
      "outputs": [
        {
          "output_type": "stream",
          "text": [
            "Found 57 images belonging to 2 classes.\n"
          ],
          "name": "stdout"
        }
      ]
    },
    {
      "cell_type": "code",
      "metadata": {
        "colab": {
          "base_uri": "https://localhost:8080/"
        },
        "id": "qF12A8wYYaNP",
        "outputId": "689660e5-c6d7-4867-88c0-f6742df10a33"
      },
      "source": [
        "history = model.fit_generator(\n",
        "                                training_set,\n",
        "                                steps_per_epoch=6,\n",
        "                                epochs=10,\n",
        "                                validation_data= validation_set,\n",
        "                                validation_steps=2\n",
        ")"
      ],
      "execution_count": null,
      "outputs": [
        {
          "output_type": "stream",
          "text": [
            "/usr/local/lib/python3.7/dist-packages/tensorflow/python/keras/engine/training.py:1844: UserWarning: `Model.fit_generator` is deprecated and will be removed in a future version. Please use `Model.fit`, which supports generators.\n",
            "  warnings.warn('`Model.fit_generator` is deprecated and '\n"
          ],
          "name": "stderr"
        },
        {
          "output_type": "stream",
          "text": [
            "Epoch 1/10\n",
            "6/6 [==============================] - 48s 8s/step - loss: 0.8898 - accuracy: 0.5962 - val_loss: 0.6663 - val_accuracy: 0.6140\n",
            "Epoch 2/10\n",
            "6/6 [==============================] - 45s 7s/step - loss: 0.6568 - accuracy: 0.5736 - val_loss: 0.6116 - val_accuracy: 0.6667\n",
            "Epoch 3/10\n",
            "6/6 [==============================] - 45s 7s/step - loss: 0.6391 - accuracy: 0.6466 - val_loss: 0.6712 - val_accuracy: 0.7193\n",
            "Epoch 4/10\n",
            "6/6 [==============================] - 45s 7s/step - loss: 0.6371 - accuracy: 0.6604 - val_loss: 0.6213 - val_accuracy: 0.6316\n",
            "Epoch 5/10\n",
            "6/6 [==============================] - 52s 9s/step - loss: 0.6083 - accuracy: 0.6368 - val_loss: 0.6262 - val_accuracy: 0.7544\n",
            "Epoch 6/10\n",
            "6/6 [==============================] - 45s 7s/step - loss: 0.6301 - accuracy: 0.6390 - val_loss: 0.6363 - val_accuracy: 0.6842\n",
            "Epoch 7/10\n",
            "6/6 [==============================] - 45s 7s/step - loss: 0.5708 - accuracy: 0.7164 - val_loss: 0.6108 - val_accuracy: 0.7719\n",
            "Epoch 8/10\n",
            "6/6 [==============================] - 45s 9s/step - loss: 0.5919 - accuracy: 0.7000 - val_loss: 0.5926 - val_accuracy: 0.7368\n",
            "Epoch 9/10\n",
            "6/6 [==============================] - 45s 7s/step - loss: 0.5408 - accuracy: 0.6889 - val_loss: 0.6208 - val_accuracy: 0.7368\n",
            "Epoch 10/10\n",
            "6/6 [==============================] - 45s 7s/step - loss: 0.5575 - accuracy: 0.6990 - val_loss: 0.5914 - val_accuracy: 0.7193\n"
          ],
          "name": "stdout"
        }
      ]
    },
    {
      "cell_type": "code",
      "metadata": {
        "colab": {
          "base_uri": "https://localhost:8080/",
          "height": 545
        },
        "id": "HlsTgN0Nkt-p",
        "outputId": "0b28d4c2-7404-44c9-c03f-a76728aab5b2"
      },
      "source": [
        "acc = history.history['accuracy']\n",
        "val_acc = history.history['val_accuracy']\n",
        "loss = history.history['loss']\n",
        "val_loss = history.history['val_loss']\n",
        "epochs = range(1, len(acc) + 1)\n",
        "\n",
        "# Train and validation accuracy\n",
        "plt.plot(epochs, acc, 'b', label='Training accurarcy')\n",
        "plt.plot(epochs, val_acc, 'r', label='Validation accurarcy')\n",
        "plt.title('Training and Validation accurarcy')\n",
        "plt.legend()\n",
        "\n",
        "plt.figure()\n",
        "\n",
        "# Train and validation loss\n",
        "plt.plot(epochs, loss, 'b', label='Training loss')\n",
        "plt.plot(epochs, val_loss, 'r', label='Validation loss')\n",
        "plt.title('Training and Validation loss')\n",
        "plt.legend()\n",
        "plt.show()\n"
      ],
      "execution_count": null,
      "outputs": [
        {
          "output_type": "display_data",
          "data": {
            "image/png": "[encoded data removed]",
            "text/plain": [
              "<Figure size 432x288 with 1 Axes>"
            ]
          },
          "metadata": {
            "tags": [],
            "needs_background": "light"
          }
        },
        {
          "output_type": "display_data",
          "data": {
            "image/png": "[encoded data removed]",
            "text/plain": [
              "<Figure size 432x288 with 1 Axes>"
            ]
          },
          "metadata": {
            "tags": [],
            "needs_background": "light"
          }
        }
      ]
    }
  ]
}