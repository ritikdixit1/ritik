{
  "nbformat": 4,
  "nbformat_minor": 0,
  "metadata": {
    "colab": {
      "name": "BreastCancerDetectionFinal.ipynb",
      "provenance": [],
      "collapsed_sections": [],
      "authorship_tag": "ABX9TyOPSwl9seTPRpZAPLO6DVcr",
      "include_colab_link": true
    },
    "kernelspec": {
      "name": "python3",
      "display_name": "Python 3"
    }
  },
  "cells": [
    {
      "cell_type": "markdown",
      "metadata": {
        "id": "view-in-github",
        "colab_type": "text"
      },
      "source": [
        "<a href=\"https://colab.research.google.com/github/dixitritik17/ritik/blob/master/BreastCancerDetectionFinal.ipynb\" target=\"_parent\"><img src=\"https://colab.research.google.com/assets/colab-badge.svg\" alt=\"Open In Colab\"/></a>"
      ]
    },
    {
      "cell_type": "code",
      "metadata": {
        "id": "t7_1GUNXl5O6",
        "colab": {
          "base_uri": "https://localhost:8080/"
        },
        "outputId": "38b23a64-6be8-423a-d06f-648262934e77"
      },
      "source": [
        "!unzip breastcancer"
      ],
      "execution_count": null,
      "outputs": [
        {
          "output_type": "stream",
          "text": [
            "Archive:  breastcancer.zip\n",
            "   creating: breastcancer/\n",
            "   creating: breastcancer/train/\n",
            "   creating: breastcancer/train/beningn/\n",
            "  inflating: breastcancer/train/beningn/Beningn1 - Copy.jpg  \n",
            "  inflating: breastcancer/train/beningn/Beningn1.jpg  \n",
            "  inflating: breastcancer/train/beningn/Beningn10 - Copy.jpg  \n",
            "  inflating: breastcancer/train/beningn/Beningn10.jpg  \n",
            "  inflating: breastcancer/train/beningn/Beningn11 - Copy.jpg  \n",
            "  inflating: breastcancer/train/beningn/Beningn11.jpg  \n",
            "  inflating: breastcancer/train/beningn/Beningn12 - Copy.jpg  \n",
            "  inflating: breastcancer/train/beningn/Beningn12.jpg  \n",
            "  inflating: breastcancer/train/beningn/Beningn13 - Copy.jpg  \n",
            "  inflating: breastcancer/train/beningn/Beningn13.jpg  \n",
            "  inflating: breastcancer/train/beningn/Beningn14 - Copy.jpg  \n",
            "  inflating: breastcancer/train/beningn/Beningn14.jpg  \n",
            "  inflating: breastcancer/train/beningn/Beningn15 - Copy.jpg  \n",
            "  inflating: breastcancer/train/beningn/Beningn15.jpg  \n",
            "  inflating: breastcancer/train/beningn/Beningn16 - Copy.jpg  \n",
            "  inflating: breastcancer/train/beningn/Beningn16.jpg  \n",
            "  inflating: breastcancer/train/beningn/Beningn2 - Copy.jpg  \n",
            "  inflating: breastcancer/train/beningn/Beningn2.jpg  \n",
            "  inflating: breastcancer/train/beningn/Beningn3 - Copy.jpg  \n",
            "  inflating: breastcancer/train/beningn/Beningn3.jpg  \n",
            "  inflating: breastcancer/train/beningn/Beningn4 - Copy.jpg  \n",
            "  inflating: breastcancer/train/beningn/Beningn4.jpg  \n",
            "  inflating: breastcancer/train/beningn/Beningn5 - Copy.jpg  \n",
            "  inflating: breastcancer/train/beningn/Beningn5.jpg  \n",
            "  inflating: breastcancer/train/beningn/Beningn6 - Copy.jpg  \n",
            "  inflating: breastcancer/train/beningn/Beningn6.jpg  \n",
            "  inflating: breastcancer/train/beningn/Beningn7 - Copy.jpg  \n",
            "  inflating: breastcancer/train/beningn/Beningn7.jpg  \n",
            "  inflating: breastcancer/train/beningn/Beningn8 - Copy.jpg  \n",
            "  inflating: breastcancer/train/beningn/Beningn8.jpg  \n",
            "  inflating: breastcancer/train/beningn/Beningn9 - Copy.jpg  \n",
            "  inflating: breastcancer/train/beningn/Beningn9.jpg  \n",
            "   creating: breastcancer/train/malign/\n",
            "  inflating: breastcancer/train/malign/Malign1 - Copy.jpg  \n",
            "  inflating: breastcancer/train/malign/Malign1.jpg  \n",
            "  inflating: breastcancer/train/malign/Malign10 - Copy.jpg  \n",
            "  inflating: breastcancer/train/malign/Malign10.jpg  \n",
            "  inflating: breastcancer/train/malign/Malign11 - Copy.jpg  \n",
            "  inflating: breastcancer/train/malign/Malign11.jpg  \n",
            "  inflating: breastcancer/train/malign/Malign12 - Copy.jpg  \n",
            "  inflating: breastcancer/train/malign/Malign12.jpg  \n",
            "  inflating: breastcancer/train/malign/Malign13 - Copy.jpg  \n",
            "  inflating: breastcancer/train/malign/Malign13.jpg  \n",
            "  inflating: breastcancer/train/malign/Malign14 - Copy.jpg  \n",
            "  inflating: breastcancer/train/malign/Malign14.jpg  \n",
            "  inflating: breastcancer/train/malign/Malign15 - Copy.jpg  \n",
            "  inflating: breastcancer/train/malign/Malign15.jpg  \n",
            "  inflating: breastcancer/train/malign/Malign16 - Copy.jpg  \n",
            "  inflating: breastcancer/train/malign/Malign16.jpg  \n",
            "  inflating: breastcancer/train/malign/Malign2 - Copy.jpg  \n",
            "  inflating: breastcancer/train/malign/Malign2.jpg  \n",
            "  inflating: breastcancer/train/malign/Malign3 - Copy.jpg  \n",
            "  inflating: breastcancer/train/malign/Malign3.jpg  \n",
            "  inflating: breastcancer/train/malign/Malign4 - Copy.jpg  \n",
            "  inflating: breastcancer/train/malign/Malign4.jpg  \n",
            "  inflating: breastcancer/train/malign/Malign5 - Copy.jpg  \n",
            "  inflating: breastcancer/train/malign/Malign5.jpg  \n",
            "  inflating: breastcancer/train/malign/Malign6 - Copy.jpg  \n",
            "  inflating: breastcancer/train/malign/Malign6.jpg  \n",
            "  inflating: breastcancer/train/malign/Malign7 - Copy.jpg  \n",
            "  inflating: breastcancer/train/malign/Malign7.jpg  \n",
            "  inflating: breastcancer/train/malign/Malign8 - Copy.jpg  \n",
            "  inflating: breastcancer/train/malign/Malign8.jpg  \n",
            "  inflating: breastcancer/train/malign/Malign9 - Copy.jpg  \n",
            "  inflating: breastcancer/train/malign/Malign9.jpg  \n",
            "   creating: breastcancer/val/\n",
            "   creating: breastcancer/val/beningn/\n",
            "  inflating: breastcancer/val/beningn/Beningn17 - Copy.jpg  \n",
            "  inflating: breastcancer/val/beningn/Beningn17.jpg  \n",
            "  inflating: breastcancer/val/beningn/Beningn18 - Copy.jpg  \n",
            "  inflating: breastcancer/val/beningn/Beningn18.jpg  \n",
            "  inflating: breastcancer/val/beningn/Beningn19 - Copy.jpg  \n",
            "  inflating: breastcancer/val/beningn/Beningn19.jpg  \n",
            "  inflating: breastcancer/val/beningn/Beningn20 - Copy.jpg  \n",
            "  inflating: breastcancer/val/beningn/Beningn20.jpg  \n",
            "   creating: breastcancer/val/malign/\n",
            "  inflating: breastcancer/val/malign/Malign17 - Copy.jpg  \n",
            "  inflating: breastcancer/val/malign/Malign17.jpg  \n",
            "  inflating: breastcancer/val/malign/Malign18 - Copy.jpg  \n",
            "  inflating: breastcancer/val/malign/Malign18.jpg  \n",
            "  inflating: breastcancer/val/malign/Malign19 - Copy.jpg  \n",
            "  inflating: breastcancer/val/malign/Malign19.jpg  \n",
            "  inflating: breastcancer/val/malign/Malign20 - Copy.jpg  \n",
            "  inflating: breastcancer/val/malign/Malign20.jpg  \n"
          ],
          "name": "stdout"
        }
      ]
    },
    {
      "cell_type": "code",
      "metadata": {
        "id": "oJoXNyNxm_2_"
      },
      "source": [
        "train_path = \"breastcancer/train\"\n",
        "val_path = \"breastcancer/val\""
      ],
      "execution_count": null,
      "outputs": []
    },
    {
      "cell_type": "code",
      "metadata": {
        "id": "7uJTjKBSnI11"
      },
      "source": [
        "import numpy as np\n",
        "import os\n",
        "import matplotlib.pyplot as plt\n",
        "import keras\n",
        "from keras.layers import*\n",
        "from keras.models import*\n",
        "from keras.preprocessing import image "
      ],
      "execution_count": null,
      "outputs": []
    },
    {
      "cell_type": "code",
      "metadata": {
        "colab": {
          "base_uri": "https://localhost:8080/"
        },
        "id": "Q8_G7AQsnLGG",
        "outputId": "b28e1d7d-a5e4-4207-e667-288760ea2480"
      },
      "source": [
        "model = Sequential()\n",
        "inputSize = (224,224,3)\n",
        "model.add(Conv2D(32, (3, 3), activation=\"relu\",input_shape=inputSize))\n",
        "model.add(Conv2D(64, (3, 3), activation=\"relu\"))\n",
        "model.add(MaxPooling2D(pool_size=(2, 2)))\n",
        "model.add(Dropout(0.25))\n",
        "\n",
        "model.add(Conv2D(64, (3, 3) ,activation=\"relu\"))\n",
        "model.add(MaxPooling2D(pool_size=(2, 2)))\n",
        "model.add(Dropout(0.25))\n",
        "\n",
        "model.add(Conv2D(128, (3, 3) ,activation=\"relu\"))\n",
        "model.add(MaxPooling2D(pool_size=(2, 2)))\n",
        "model.add(Dropout(0.25))\n",
        "\n",
        "model.add(Flatten())\n",
        "model.add(Dense(64, activation=\"relu\"))\n",
        "model.add(Dropout(0.5))\n",
        "\n",
        "model.add(Dense(1, activation=\"sigmoid\"))\n",
        "\n",
        "model.compile(loss=keras.losses.binary_crossentropy, optimizer='Adam', metrics=[\"accuracy\"])\n",
        "\n",
        "model.summary()"
      ],
      "execution_count": null,
      "outputs": [
        {
          "output_type": "stream",
          "text": [
            "Model: \"sequential\"\n",
            "_________________________________________________________________\n",
            "Layer (type)                 Output Shape              Param #   \n",
            "=================================================================\n",
            "conv2d (Conv2D)              (None, 222, 222, 32)      896       \n",
            "_________________________________________________________________\n",
            "conv2d_1 (Conv2D)            (None, 220, 220, 64)      18496     \n",
            "_________________________________________________________________\n",
            "max_pooling2d (MaxPooling2D) (None, 110, 110, 64)      0         \n",
            "_________________________________________________________________\n",
            "dropout (Dropout)            (None, 110, 110, 64)      0         \n",
            "_________________________________________________________________\n",
            "conv2d_2 (Conv2D)            (None, 108, 108, 64)      36928     \n",
            "_________________________________________________________________\n",
            "max_pooling2d_1 (MaxPooling2 (None, 54, 54, 64)        0         \n",
            "_________________________________________________________________\n",
            "dropout_1 (Dropout)          (None, 54, 54, 64)        0         \n",
            "_________________________________________________________________\n",
            "conv2d_3 (Conv2D)            (None, 52, 52, 128)       73856     \n",
            "_________________________________________________________________\n",
            "max_pooling2d_2 (MaxPooling2 (None, 26, 26, 128)       0         \n",
            "_________________________________________________________________\n",
            "dropout_2 (Dropout)          (None, 26, 26, 128)       0         \n",
            "_________________________________________________________________\n",
            "flatten (Flatten)            (None, 86528)             0         \n",
            "_________________________________________________________________\n",
            "dense (Dense)                (None, 64)                5537856   \n",
            "_________________________________________________________________\n",
            "dropout_3 (Dropout)          (None, 64)                0         \n",
            "_________________________________________________________________\n",
            "dense_1 (Dense)              (None, 1)                 65        \n",
            "=================================================================\n",
            "Total params: 5,668,097\n",
            "Trainable params: 5,668,097\n",
            "Non-trainable params: 0\n",
            "_________________________________________________________________\n"
          ],
          "name": "stdout"
        }
      ]
    },
    {
      "cell_type": "code",
      "metadata": {
        "id": "fyKBHyHknNsO"
      },
      "source": [
        "train_datagen = image.ImageDataGenerator(\n",
        "        rescale=1./255,\n",
        "        shear_range=0.2,\n",
        "        zoom_range=0.2,\n",
        "        horizontal_flip=True)\n",
        "\n",
        "test_datagen = image.ImageDataGenerator(rescale=1./255)"
      ],
      "execution_count": null,
      "outputs": []
    },
    {
      "cell_type": "code",
      "metadata": {
        "colab": {
          "base_uri": "https://localhost:8080/"
        },
        "id": "57QRVL5fnRX9",
        "outputId": "576f32a2-c272-44d1-d76f-aa491997d794"
      },
      "source": [
        "training_set = train_datagen.flow_from_directory('breastcancer/train',\n",
        "                                                 target_size=(224, 224),\n",
        "                                                 batch_size=32,\n",
        "                                                 class_mode='binary')\n"
      ],
      "execution_count": null,
      "outputs": [
        {
          "output_type": "stream",
          "text": [
            "Found 64 images belonging to 2 classes.\n"
          ],
          "name": "stdout"
        }
      ]
    },
    {
      "cell_type": "code",
      "metadata": {
        "colab": {
          "base_uri": "https://localhost:8080/"
        },
        "id": "K4CJ96n1nU6e",
        "outputId": "b8b5c19c-24c3-441e-a80d-ef9f9cfddb6b"
      },
      "source": [
        "validation_set = train_datagen.flow_from_directory('breastcancer/val',\n",
        "                                                 target_size=(224, 224),\n",
        "                                                 batch_size=32,\n",
        "                                                 class_mode='binary')\n"
      ],
      "execution_count": null,
      "outputs": [
        {
          "output_type": "stream",
          "text": [
            "Found 16 images belonging to 2 classes.\n"
          ],
          "name": "stdout"
        }
      ]
    },
    {
      "cell_type": "code",
      "metadata": {
        "colab": {
          "base_uri": "https://localhost:8080/"
        },
        "id": "Y7ZuvLZ2nczk",
        "outputId": "916500f1-31a5-4779-9f94-b503c0a04ab5"
      },
      "source": [
        "history = model.fit_generator(\n",
        "                                training_set,\n",
        "                                steps_per_epoch=2,\n",
        "                                epochs=7,\n",
        "                                validation_data= validation_set,\n",
        "                                validation_steps=2\n",
        ")"
      ],
      "execution_count": null,
      "outputs": [
        {
          "output_type": "stream",
          "text": [
            "/usr/local/lib/python3.7/dist-packages/tensorflow/python/keras/engine/training.py:1844: UserWarning: `Model.fit_generator` is deprecated and will be removed in a future version. Please use `Model.fit`, which supports generators.\n",
            "  warnings.warn('`Model.fit_generator` is deprecated and '\n"
          ],
          "name": "stderr"
        },
        {
          "output_type": "stream",
          "text": [
            "Epoch 1/7\n",
            "2/2 [==============================] - ETA: 0s - loss: 1.0294 - accuracy: 0.5156 WARNING:tensorflow:Your input ran out of data; interrupting training. Make sure that your dataset or generator can generate at least `steps_per_epoch * epochs` batches (in this case, 2 batches). You may need to use the repeat() function when building your dataset.\n",
            "2/2 [==============================] - 23s 11s/step - loss: 1.1384 - accuracy: 0.5312 - val_loss: 1.1761 - val_accuracy: 0.5000\n",
            "Epoch 2/7\n",
            "2/2 [==============================] - 18s 9s/step - loss: 2.1008 - accuracy: 0.5312\n",
            "Epoch 3/7\n",
            "2/2 [==============================] - 18s 9s/step - loss: 0.7379 - accuracy: 0.5625\n",
            "Epoch 4/7\n",
            "2/2 [==============================] - 18s 9s/step - loss: 0.6909 - accuracy: 0.5521\n",
            "Epoch 5/7\n",
            "2/2 [==============================] - 18s 9s/step - loss: 0.6891 - accuracy: 0.5729\n",
            "Epoch 6/7\n",
            "2/2 [==============================] - 18s 9s/step - loss: 0.6979 - accuracy: 0.4792\n",
            "Epoch 7/7\n",
            "2/2 [==============================] - 18s 9s/step - loss: 0.6900 - accuracy: 0.6042\n"
          ],
          "name": "stdout"
        }
      ]
    },
    {
      "cell_type": "code",
      "metadata": {
        "colab": {
          "base_uri": "https://localhost:8080/",
          "height": 545
        },
        "id": "GMlZKkSDnhuz",
        "outputId": "49decb1c-6067-4acc-e4d1-45c8a617dadc"
      },
      "source": [
        "acc = history.history['accuracy']\n",
        "val_acc = history.history['val_accuracy']\n",
        "loss = history.history['loss']\n",
        "val_loss = history.history['val_loss']\n",
        "epochs = range(1, len(acc) + 1)\n",
        "\n",
        "# Train and validation accuracy\n",
        "plt.plot(epochs, acc, 'b', label='Training accurarcy')\n",
        "#plt.plot(epochs, val_acc, 'r', label='Validation accurarcy')\n",
        "plt.title('Training and Validation accurarcy')\n",
        "plt.legend()\n",
        "\n",
        "plt.figure()\n",
        "\n",
        "# Train and validation loss\n",
        "plt.plot(epochs, loss, 'b', label='Training loss')\n",
        "#plt.plot(epochs, val_loss, 'r', label='Validation loss')\n",
        "plt.title('Training and Validation loss')\n",
        "plt.legend()\n",
        "plt.show()\n"
      ],
      "execution_count": null,
      "outputs": [
        {
          "output_type": "display_data",
          "data": {
            "image/png": "[encoded data removed]",
            "text/plain": [
              "<Figure size 432x288 with 1 Axes>"
            ]
          },
          "metadata": {
            "tags": [],
            "needs_background": "light"
          }
        },
        {
          "output_type": "display_data",
          "data": {
            "image/png": "[encoded data removed]",
            "text/plain": [
              "<Figure size 432x288 with 1 Axes>"
            ]
          },
          "metadata": {
            "tags": [],
            "needs_background": "light"
          }
        }
      ]
    }
  ]
}